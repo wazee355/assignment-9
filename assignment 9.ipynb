{
 "cells": [
  {
   "cell_type": "raw",
   "id": "9eea4fd9",
   "metadata": {},
   "source": [
    "1. To what does a relative path refer?\n",
    "\n",
    "Answer- Relative paths are relative to current working directory. Unlike an absolute path, a relative path does not include the domain name of the website. instead it contains just the directory and slug."
   ]
  },
  {
   "cell_type": "raw",
   "id": "48cdf5bc",
   "metadata": {},
   "source": [
    "2. What does an absolute path start with your operating system?\n",
    "\n",
    "Answer- Absolute path start with the root folder, such as / or C:\\."
   ]
  },
  {
   "cell_type": "raw",
   "id": "31933e10",
   "metadata": {},
   "source": [
    "3. What do the functions os.getcwd() and os.chdir() do?\n",
    "\n",
    "Answer- The os.getcwd() function returns the current working directory. The os.chdir() function changes the current working directory."
   ]
  },
  {
   "cell_type": "raw",
   "id": "dbd0aba7",
   "metadata": {},
   "source": [
    "4. What are the . and .. folders?\n",
    "\n",
    "Answer- The . is the current folder and .. is the parent folder."
   ]
  },
  {
   "cell_type": "raw",
   "id": "263c0ac2",
   "metadata": {},
   "source": [
    "5. In C:\\bacon\\eggs\\spam.txt, which part is the dir name, and which part is the base name?\n",
    "\n",
    "Answer- C:\\bacon\\eggs is the directory name and spam.txt is the base name."
   ]
  },
  {
   "cell_type": "raw",
   "id": "47bb1930",
   "metadata": {},
   "source": [
    "6. What are the three “mode” arguments that can be passed to the open() function?\n",
    "\n",
    "Answer- The string 'r' for read mode, 'w' for write mode and 'a' for append mode can be passed to the open() function."
   ]
  },
  {
   "cell_type": "raw",
   "id": "22c961b1",
   "metadata": {},
   "source": [
    "7. What happens if an existing file is opened in write mode?\n",
    "\n",
    "Answer- An existing file opened in write mode is erased and completely over written."
   ]
  },
  {
   "cell_type": "raw",
   "id": "2b8b50d7",
   "metadata": {},
   "source": [
    "8. How do you tell the difference between read() and readlines()?\n",
    "\n",
    "Answer- The read() method returns the file's entire as a single string value. THe readlines() method returns a list of strings, where each string is a single line from the file's contents."
   ]
  },
  {
   "cell_type": "raw",
   "id": "06d677f5",
   "metadata": {},
   "source": [
    "9. What data structure does a shelf value resemble?\n",
    "\n",
    "Answer- A shelf value resembles a dictionary value; it has keys and values , along with keys () and values() methods work similarly to the dictionary methods of the same names."
   ]
  }
 ],
 "metadata": {
  "kernelspec": {
   "display_name": "Python 3 (ipykernel)",
   "language": "python",
   "name": "python3"
  },
  "language_info": {
   "codemirror_mode": {
    "name": "ipython",
    "version": 3
   },
   "file_extension": ".py",
   "mimetype": "text/x-python",
   "name": "python",
   "nbconvert_exporter": "python",
   "pygments_lexer": "ipython3",
   "version": "3.9.7"
  }
 },
 "nbformat": 4,
 "nbformat_minor": 5
}
